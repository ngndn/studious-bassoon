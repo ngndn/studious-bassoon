{
 "cells": [
  {
   "cell_type": "code",
   "execution_count": 110,
   "metadata": {
    "collapsed": false
   },
   "outputs": [],
   "source": [
    "import numpy as np\n",
    "import pandas as pd\n",
    "from sklearn import linear_model\n",
    "from sklearn.model_selection import train_test_split\n",
    "from sklearn.model_selection import LeaveOneOut, KFold"
   ]
  },
  {
   "cell_type": "code",
   "execution_count": 102,
   "metadata": {
    "collapsed": false
   },
   "outputs": [],
   "source": [
    "# Loading the data and normalize\n",
    "reg = pd.read_csv('regression_dataset_training.csv', index_col=0)"
   ]
  },
  {
   "cell_type": "code",
   "execution_count": 141,
   "metadata": {
    "collapsed": false
   },
   "outputs": [],
   "source": [
    "# Separating the data and the outcome\n",
    "X = reg.drop('vote', axis = 1)\n",
    "y = reg['vote']\n",
    "\n",
    "X_org = X\n",
    "\n",
    "X = (X - X_org.mean()) / (X_org.max() - X_org.min())\n",
    "X = X.as_matrix()\n",
    "y = y.as_matrix()"
   ]
  },
  {
   "cell_type": "code",
   "execution_count": 157,
   "metadata": {
    "collapsed": true
   },
   "outputs": [],
   "source": [
    "X_train, X_test, y_train, y_test = train_test_split(X, y, test_size=0.2, random_state=2016)"
   ]
  },
  {
   "cell_type": "code",
   "execution_count": 105,
   "metadata": {
    "collapsed": false
   },
   "outputs": [],
   "source": [
    "loo = LeaveOneOut()\n",
    "n = loo.get_n_splits(X_train)"
   ]
  },
  {
   "cell_type": "code",
   "execution_count": 106,
   "metadata": {
    "collapsed": false
   },
   "outputs": [],
   "source": [
    "error = 0\n",
    "lreg_baseline = linear_model.LinearRegression()\n",
    "\n",
    "for val_train_index, val_test_index in loo.split(X_train):\n",
    "    X_train_val, X_test_val = X_train[val_train_index, :], X_train[val_test_index, :]\n",
    "    y_train_val, y_test_val = y_train[val_train_index], y_train[val_test_index]\n",
    "    \n",
    "    lreg_baseline.fit(X_train_val, y_train_val)\n",
    "    y_pred = lreg_baseline.predict(X_test_val)\n",
    "    \n",
    "    error += (y_pred - y_test_val)**2"
   ]
  },
  {
   "cell_type": "code",
   "execution_count": 109,
   "metadata": {
    "collapsed": false
   },
   "outputs": [
    {
     "name": "stdout",
     "output_type": "stream",
     "text": [
      "[ 0.0480857]\n",
      "0.0462119666604\n"
     ]
    }
   ],
   "source": [
    "print(error/n)\n",
    "\n",
    "lreg_baseline.fit(X_train, y_train)\n",
    "y_pred = lreg_baseline.predict(X_test)\n",
    "\n",
    "MSE = np.mean((y_pred - y_test)**2)\n",
    "print(MSE)"
   ]
  },
  {
   "cell_type": "markdown",
   "metadata": {
    "collapsed": false
   },
   "source": [
    "# LASSO Regression"
   ]
  },
  {
   "cell_type": "code",
   "execution_count": 158,
   "metadata": {
    "collapsed": false
   },
   "outputs": [
    {
     "name": "stdout",
     "output_type": "stream",
     "text": [
      "0.000352455640625\n"
     ]
    }
   ],
   "source": [
    "# Setting up the alpha for LASSO\n",
    "kl = KFold(n_splits=100)\n",
    "lasso_cv = linear_model.LassoCV(cv=kl, random_state=2016, n_jobs=3)\n",
    "lasso_cv.fit(X_train, y_train)\n",
    "print(lasso_cv.alpha_)"
   ]
  },
  {
   "cell_type": "code",
   "execution_count": 161,
   "metadata": {
    "collapsed": false
   },
   "outputs": [
    {
     "name": "stdout",
     "output_type": "stream",
     "text": [
      "Lasso:  0.049336199495\n",
      "Lasso with rounding:  0.0493644\n"
     ]
    }
   ],
   "source": [
    "y_pred = lasso_cv.predict(X_test)\n",
    "MSE = np.mean((y_pred - y_test)**2)\n",
    "print('Lasso: ', MSE)\n",
    "\n",
    "y_pred_round = np.around(y_pred, 2)\n",
    "MSE = np.mean((y_pred_round - y_test)**2)\n",
    "print('Lasso with rounding: ', MSE)"
   ]
  },
  {
   "cell_type": "code",
   "execution_count": 162,
   "metadata": {
    "collapsed": false
   },
   "outputs": [],
   "source": [
    "# Loading the test data\n",
    "test = pd.read_csv('regression_dataset_testing.csv', index_col = 0)\n",
    "test = (test - X_org.mean()) / (X_org.max() - X_org.min())\n",
    "\n",
    "pred = lasso_cv.predict(test)\n",
    "pred = np.around(pred, 2)\n",
    "data = {'ID': test.index, 'vote': pred}\n",
    "test_dataframe = pd.DataFrame(data=data, index=None)\n",
    "test_dataframe.to_csv('submission-lasso-3.csv', index=False)"
   ]
  },
  {
   "cell_type": "markdown",
   "metadata": {},
   "source": [
    "# Elastic Net Regression"
   ]
  },
  {
   "cell_type": "code",
   "execution_count": 163,
   "metadata": {
    "collapsed": false
   },
   "outputs": [
    {
     "name": "stdout",
     "output_type": "stream",
     "text": [
      "0.00070491128125\n"
     ]
    }
   ],
   "source": [
    "elastic = linear_model.ElasticNetCV(cv=kl, random_state=2016, n_jobs=3)\n",
    "elastic.fit(X_train, y_train)\n",
    "print(elastic.alpha_)"
   ]
  }
 ],
 "metadata": {
  "anaconda-cloud": {},
  "kernelspec": {
   "display_name": "Python [conda root]",
   "language": "python",
   "name": "conda-root-py"
  },
  "language_info": {
   "codemirror_mode": {
    "name": "ipython",
    "version": 3.0
   },
   "file_extension": ".py",
   "mimetype": "text/x-python",
   "name": "python",
   "nbconvert_exporter": "python",
   "pygments_lexer": "ipython3",
   "version": "3.5.2"
  }
 },
 "nbformat": 4,
 "nbformat_minor": 0
}